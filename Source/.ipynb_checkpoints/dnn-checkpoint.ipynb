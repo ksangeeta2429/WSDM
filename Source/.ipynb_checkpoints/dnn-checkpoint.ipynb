{
 "cells": [
  {
   "cell_type": "code",
   "execution_count": null,
   "metadata": {},
   "outputs": [],
   "source": [
    "import gc\n",
    "import numpy as np\n",
    "import math\n",
    "import pandas as pd\n",
    "\n",
    "from sklearn.model_selection import train_test_split\n",
    "from sklearn.preprocessing import LabelEncoder\n",
    "from tqdm import tqdm\n",
    "\n",
    "from keras.utils import np_utils\n",
    "from keras.models import Sequential\n",
    "from keras.layers import Dense\n",
    "from keras.layers import Dropout"
   ]
  },
  {
   "cell_type": "code",
   "execution_count": null,
   "metadata": {
    "collapsed": true
   },
   "outputs": [],
   "source": [
    "song_cols = ['song_id', 'genre_ids', 'song_length', 'language']\n",
    "songs = pd.read_csv('../Data/songs.csv', usecols = song_cols)\n",
    "\n",
    "headers = ['song_id', 'translated_names']\n",
    "artists = pd.read_csv('../New_Data/tr_artists.csv', usecols = headers)\n",
    "composers = pd.read_csv('../New_Data/tr_composer.csv', usecols = headers)\n",
    "lyricists = pd.read_csv('../New_Data/tr_lyricists.csv', usecols = headers)\n",
    "members = pd.read_csv('../Data/members.csv')\n",
    "\n",
    "members = members.drop(['bd', 'gender','registration_init_time','expiration_date'], axis=1)"
   ]
  },
  {
   "cell_type": "code",
   "execution_count": null,
   "metadata": {},
   "outputs": [],
   "source": [
    "train = pd.read_csv('../Data/train.csv')\n",
    "test = pd.read_csv('../Data/test.csv')"
   ]
  },
  {
   "cell_type": "code",
   "execution_count": null,
   "metadata": {
    "collapsed": true
   },
   "outputs": [],
   "source": [
    "songs_new = songs.merge(artists, on='song_id', how='left')\n",
    "songs_new = songs_new.merge(lyricists, on='song_id', how='left')\n",
    "songs_new = songs_new.merge(composers, on='song_id', how='left')"
   ]
  },
  {
   "cell_type": "code",
   "execution_count": null,
   "metadata": {},
   "outputs": [],
   "source": [
    "train = train.merge(songs_new, on='song_id', how='left')\n",
    "test = test.merge(songs_new, on='song_id', how='left')\n",
    "\n",
    "#members['registration_year'] = members['registration_init_time'].apply(lambda x: int(str(x)[0:4]))\n",
    "#members['registration_month'] = members['registration_init_time'].apply(lambda x: int(str(x)[4:6]))\n",
    "#members['registration_date'] = members['registration_init_time'].apply(lambda x: int(str(x)[6:8]))\n",
    "\n",
    "#members['expiration_year'] = members['expiration_date'].apply(lambda x: int(str(x)[0:4]))\n",
    "#members['expiration_month'] = members['expiration_date'].apply(lambda x: int(str(x)[4:6]))\n",
    "#members['expiration_date'] = members['expiration_date'].apply(lambda x: int(str(x)[6:8]))\n",
    "#members = members.drop(['registration_init_time'], axis=1)\n",
    "\n",
    "train = train.merge(members, on='msno', how='left')\n",
    "test = test.merge(members, on='msno', how='left')\n",
    "\n",
    "train = train.fillna(-2)\n",
    "test = test.fillna(-2)"
   ]
  },
  {
   "cell_type": "code",
   "execution_count": null,
   "metadata": {},
   "outputs": [],
   "source": [
    "cols = list(train.columns)\n",
    "cols.remove('target')\n",
    "\n",
    "for col in tqdm(cols):\n",
    "    if train[col].dtype == 'object':\n",
    "        train[col] = train[col].apply(str)\n",
    "        test[col] = test[col].apply(str)\n",
    "\n",
    "        le = LabelEncoder()\n",
    "        train_vals = list(train[col].unique())\n",
    "        test_vals = list(test[col].unique())\n",
    "        le.fit(train_vals + test_vals)\n",
    "        train[col] = le.transform(train[col])\n",
    "        test[col] = le.transform(test[col])"
   ]
  },
  {
   "cell_type": "code",
   "execution_count": null,
   "metadata": {
    "collapsed": true
   },
   "outputs": [],
   "source": [
    "X = np.array(train.drop(['target'], axis=1))\n",
    "Y = train['target'].values\n",
    "\n",
    "X_test = np.array(test.drop(['id'], axis=1))\n",
    "Y_test = test['id'].values"
   ]
  },
  {
   "cell_type": "code",
   "execution_count": null,
   "metadata": {
    "collapsed": true
   },
   "outputs": [],
   "source": [
    "cols_name = list(train.columns)\n",
    "X_new = X\n",
    "\n",
    "max_vals = X_new.max(axis = 0).transpose()\n",
    "min_vals = X_new.min(axis = 0).transpose()\n",
    "mean_vals = np.mean(X_new, axis = 0).transpose()\n",
    "\n",
    "max_vals_2 = X_test.max(axis = 0).transpose()\n",
    "min_vals_2 = X_test.min(axis = 0).transpose()\n",
    "mean_vals_2 = np.mean(X_test, axis = 0).transpose()\n",
    "\n",
    "#training set\n",
    "X_new = X_new - mean_vals\n",
    "X_new = X_new / (max_vals - min_vals)\n",
    "X_new = np.around(X_new,decimals = 2)\n",
    "\n",
    "#testing set\n",
    "X_new_test = X_test - mean_vals\n",
    "X_new_test = X_new_test / (max_vals - min_vals)\n",
    "X_new_test = np.around(X_new_test,decimals = 2)\n",
    "#print X_new_test.max(axis = 0)\n",
    "#print X_new_test.min(axis = 0)"
   ]
  },
  {
   "cell_type": "code",
   "execution_count": null,
   "metadata": {
    "collapsed": true
   },
   "outputs": [],
   "source": [
    "#np.savetxt(\"train.csv\", X_new, delimiter=\",\")\n",
    "#np.savetxt(\"test.csv\", X_new_test, delimiter=\",\")"
   ]
  },
  {
   "cell_type": "code",
   "execution_count": null,
   "metadata": {
    "collapsed": true
   },
   "outputs": [],
   "source": [
    "X_train, X_val, Y_train, Y_val = train_test_split(X_new, Y, test_size=0.1, random_state = 10)\n",
    "    \n",
    "del X; \n",
    "del members, songs, artists, composers, lyricists;\n",
    "del train, test;\n",
    "gc.collect();"
   ]
  },
  {
   "cell_type": "code",
   "execution_count": null,
   "metadata": {},
   "outputs": [],
   "source": [
    "model = Sequential([\n",
    "    Dense(units=1024, kernel_initializer='uniform', input_dim=X_train.shape[1], activation='relu'),\n",
    "    Dense(units=512, kernel_initializer='uniform', activation='relu'),\n",
    "    Dropout(0.25),\n",
    "    Dense(128, kernel_initializer='uniform', activation='relu'),\n",
    "    Dense(64, kernel_initializer='uniform', activation='relu'),\n",
    "    Dense(1, kernel_initializer='uniform', activation='sigmoid')\n",
    "])\n",
    "\n",
    "model.compile(optimizer='adam', loss='binary_crossentropy', metrics=['accuracy'])\n",
    "model.fit(X_train, Y_train, validation_data=(X_val, Y_val), batch_size=128, epochs=20)"
   ]
  },
  {
   "cell_type": "code",
   "execution_count": null,
   "metadata": {
    "collapsed": true
   },
   "outputs": [],
   "source": [
    "model.save('../Models/dnn_preprocessed.h5')"
   ]
  },
  {
   "cell_type": "code",
   "execution_count": null,
   "metadata": {
    "collapsed": true
   },
   "outputs": [],
   "source": [
    "predicted = model.predict(X_new_test, batch_size=128, verbose=0)"
   ]
  },
  {
   "cell_type": "code",
   "execution_count": null,
   "metadata": {
    "collapsed": true
   },
   "outputs": [],
   "source": [
    "headers = ['id', 'predicted']\n",
    "df_new = pd.DataFrame(columns=headers)\n",
    "df_new['id'] = Y_test\n",
    "df_new['predicted'] = predicted\n",
    "df_new.to_csv('test.csv', index=False)"
   ]
  }
 ],
 "metadata": {
  "kernelspec": {
   "display_name": "Python 2",
   "language": "python",
   "name": "python2"
  },
  "language_info": {
   "codemirror_mode": {
    "name": "ipython",
    "version": 2
   },
   "file_extension": ".py",
   "mimetype": "text/x-python",
   "name": "python",
   "nbconvert_exporter": "python",
   "pygments_lexer": "ipython2",
   "version": "2.7.13"
  }
 },
 "nbformat": 4,
 "nbformat_minor": 2
}
