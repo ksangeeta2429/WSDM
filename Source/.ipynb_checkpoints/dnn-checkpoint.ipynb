{
 "cells": [
  {
   "cell_type": "code",
   "execution_count": 1,
   "metadata": {},
   "outputs": [
    {
     "name": "stderr",
     "output_type": "stream",
     "text": [
      "Using TensorFlow backend.\n"
     ]
    }
   ],
   "source": [
    "import gc\n",
    "import numpy as np\n",
    "import math\n",
    "import pandas as pd\n",
    "\n",
    "from sklearn.model_selection import train_test_split\n",
    "from sklearn.preprocessing import LabelEncoder\n",
    "from tqdm import tqdm\n",
    "\n",
    "from keras.utils import np_utils\n",
    "from keras.models import Sequential\n",
    "from keras.layers import Dense\n",
    "from keras.layers import Dropout"
   ]
  },
  {
   "cell_type": "code",
   "execution_count": 2,
   "metadata": {
    "collapsed": true
   },
   "outputs": [],
   "source": [
    "train = pd.read_csv('../Data/train.csv')\n",
    "test = pd.read_csv('../Data/test.csv')\n",
    "songs = pd.read_csv('../Data/songs.csv')\n",
    "members = pd.read_csv('../Data/members.csv')\n",
    "#songs_meta = pd.read_csv('../Data/song_extra_info.csv')"
   ]
  },
  {
   "cell_type": "code",
   "execution_count": null,
   "metadata": {},
   "outputs": [],
   "source": [
    "#print train.iloc[0] \n",
    "#print songs.iloc[0]\n",
    "#print members.iloc[0]"
   ]
  },
  {
   "cell_type": "code",
   "execution_count": 3,
   "metadata": {},
   "outputs": [],
   "source": [
    "song_cols = ['song_id', 'artist_name', 'genre_ids', 'song_length', 'language']\n",
    "train = train.merge(songs[song_cols], on='song_id', how='left')\n",
    "test = test.merge(songs[song_cols], on='song_id', how='left')\n",
    "\n",
    "members['registration_year'] = members['registration_init_time'].apply(lambda x: int(str(x)[0:4]))\n",
    "members['registration_month'] = members['registration_init_time'].apply(lambda x: int(str(x)[4:6]))\n",
    "members['registration_date'] = members['registration_init_time'].apply(lambda x: int(str(x)[6:8]))\n",
    "\n",
    "members['expiration_year'] = members['expiration_date'].apply(lambda x: int(str(x)[0:4]))\n",
    "members['expiration_month'] = members['expiration_date'].apply(lambda x: int(str(x)[4:6]))\n",
    "members['expiration_date'] = members['expiration_date'].apply(lambda x: int(str(x)[6:8]))\n",
    "members = members.drop(['registration_init_time'], axis=1)\n",
    "\n",
    "members_cols = members.columns\n",
    "train = train.merge(members[members_cols], on='msno', how='left')\n",
    "test = test.merge(members[members_cols], on='msno', how='left')\n",
    "\n",
    "train = train.fillna(-1)\n",
    "test = test.fillna(-1)\n",
    "\n",
    "#print train.iloc[0]"
   ]
  },
  {
   "cell_type": "code",
   "execution_count": 4,
   "metadata": {},
   "outputs": [
    {
     "name": "stderr",
     "output_type": "stream",
     "text": [
      "\r",
      "  0%|          | 0/19 [00:00<?, ?it/s]"
     ]
    },
    {
     "name": "stdout",
     "output_type": "stream",
     "text": [
      "msno\n"
     ]
    },
    {
     "name": "stderr",
     "output_type": "stream",
     "text": [
      "\r",
      "  5%|▌         | 1/19 [00:19<05:44, 19.14s/it]"
     ]
    },
    {
     "name": "stdout",
     "output_type": "stream",
     "text": [
      "song_id\n"
     ]
    },
    {
     "name": "stderr",
     "output_type": "stream",
     "text": [
      "\r",
      " 11%|█         | 2/19 [00:51<06:35, 23.25s/it]"
     ]
    },
    {
     "name": "stdout",
     "output_type": "stream",
     "text": [
      "source_system_tab\n"
     ]
    },
    {
     "name": "stderr",
     "output_type": "stream",
     "text": [
      "\r",
      " 16%|█▌        | 3/19 [01:03<05:15, 19.69s/it]"
     ]
    },
    {
     "name": "stdout",
     "output_type": "stream",
     "text": [
      "source_screen_name\n"
     ]
    },
    {
     "name": "stderr",
     "output_type": "stream",
     "text": [
      "\r",
      " 21%|██        | 4/19 [01:16<04:27, 17.83s/it]"
     ]
    },
    {
     "name": "stdout",
     "output_type": "stream",
     "text": [
      "source_type\n"
     ]
    },
    {
     "name": "stderr",
     "output_type": "stream",
     "text": [
      "\r",
      " 26%|██▋       | 5/19 [01:29<03:48, 16.29s/it]"
     ]
    },
    {
     "name": "stdout",
     "output_type": "stream",
     "text": [
      "artist_name\n"
     ]
    },
    {
     "name": "stderr",
     "output_type": "stream",
     "text": [
      "\r",
      " 32%|███▏      | 6/19 [01:49<03:45, 17.36s/it]"
     ]
    },
    {
     "name": "stdout",
     "output_type": "stream",
     "text": [
      "genre_ids\n"
     ]
    },
    {
     "name": "stderr",
     "output_type": "stream",
     "text": [
      "\r",
      " 37%|███▋      | 7/19 [02:03<03:15, 16.32s/it]"
     ]
    },
    {
     "name": "stdout",
     "output_type": "stream",
     "text": [
      "song_length\n",
      "language\n",
      "city\n",
      "bd\n",
      "gender\n"
     ]
    },
    {
     "name": "stderr",
     "output_type": "stream",
     "text": [
      "100%|██████████| 19/19 [02:12<00:00,  6.99s/it]"
     ]
    },
    {
     "name": "stdout",
     "output_type": "stream",
     "text": [
      "registered_via\n",
      "expiration_date\n",
      "registration_year\n",
      "registration_month\n",
      "registration_date\n",
      "expiration_year\n",
      "expiration_month\n"
     ]
    },
    {
     "name": "stderr",
     "output_type": "stream",
     "text": [
      "\n"
     ]
    }
   ],
   "source": [
    "cols = list(train.columns)\n",
    "cols.remove('target')\n",
    "\n",
    "for col in tqdm(cols):\n",
    "    if train[col].dtype == 'object':\n",
    "        train[col] = train[col].apply(str)\n",
    "        test[col] = test[col].apply(str)\n",
    "\n",
    "        le = LabelEncoder()\n",
    "        train_vals = list(train[col].unique())\n",
    "        test_vals = list(test[col].unique())\n",
    "        #msno 30755\n",
    "        #song_id 359966\n",
    "        #source_system_tab 10\n",
    "        #source_screen_name 21\n",
    "        #source_type 13\n",
    "        #artist_name = 40583\n",
    "        #genre_ids = 573\n",
    "        #gender = 3\n",
    "        #song_length language city bdregistered_via expiration_date registration_year registration_month registration_date expiration_year expiration_month\n",
    "        le.fit(train_vals + test_vals)\n",
    "        train[col] = le.transform(train[col])\n",
    "        test[col] = le.transform(test[col])"
   ]
  },
  {
   "cell_type": "code",
   "execution_count": 5,
   "metadata": {},
   "outputs": [
    {
     "name": "stdout",
     "output_type": "stream",
     "text": [
      "[[  1.66510000e+04   2.09177000e+05   4.00000000e+00 ...,   1.90000000e+01\n",
      "    2.01700000e+03   9.00000000e+00]\n",
      " [  1.66510000e+04   3.72939000e+05   4.00000000e+00 ...,   1.90000000e+01\n",
      "    2.01700000e+03   9.00000000e+00]\n",
      " [  9.05000000e+02   6.44250000e+04   1.00000000e+00 ...,   1.70000000e+01\n",
      "    2.01600000e+03   1.10000000e+01]\n",
      " ..., \n",
      " [  1.04630000e+04   2.09293000e+05   1.00000000e+00 ...,   2.60000000e+01\n",
      "    2.01700000e+03   9.00000000e+00]\n",
      " [  1.04630000e+04   8.72860000e+04   1.00000000e+00 ...,   2.60000000e+01\n",
      "    2.01700000e+03   9.00000000e+00]\n",
      " [  1.04630000e+04   3.53690000e+04   1.00000000e+00 ...,   2.60000000e+01\n",
      "    2.01700000e+03   9.00000000e+00]]\n"
     ]
    }
   ],
   "source": [
    "X = np.array(train.drop(['target'], axis=1))\n",
    "y = train['target'].values\n",
    "\n",
    "X_test = np.array(test.drop(['id'], axis=1))\n",
    "ids = test['id'].values\n",
    "print X_test"
   ]
  },
  {
   "cell_type": "code",
   "execution_count": 7,
   "metadata": {},
   "outputs": [
    {
     "name": "stdout",
     "output_type": "stream",
     "text": [
      "[ 0.5   0.5   0.6   0.57  0.52  0.31  0.43  0.46  0.67  0.69  0.94  0.54\n",
      "  0.62  0.51  0.33  0.47  0.51  0.06  0.33]\n",
      "[-0.5  -0.5  -0.4  -0.43 -0.48 -0.69 -0.57 -0.02 -0.33 -0.31 -0.06 -0.46\n",
      " -0.38 -0.49 -0.67 -0.53 -0.49 -0.24 -0.67]\n",
      "[ 0.5   0.5   0.6   0.57  0.52  0.31  0.43  0.98  0.67  0.69  0.94  0.54\n",
      "  0.62  0.51  0.33  0.47  0.51  0.06  0.33]\n",
      "[-0.5  -0.5  -0.4  -0.43 -0.48 -0.69 -0.57 -0.02 -0.33 -0.31 -0.06 -0.46\n",
      " -0.38 -0.49 -0.67 -0.53 -0.49 -0.94 -0.67]\n"
     ]
    }
   ],
   "source": [
    "cols_name = list(train.columns)\n",
    "X_new = X\n",
    "\n",
    "max_vals = X_new.max(axis = 0).transpose()\n",
    "min_vals = X_new.min(axis = 0).transpose()\n",
    "mean_vals = np.mean(X_new, axis = 0).transpose()\n",
    "\n",
    "#training set\n",
    "X_new = X_new - mean_vals\n",
    "X_new = X_new / (max_vals - min_vals)\n",
    "X_new = np.around(X_new,decimals = 2)\n",
    "\n",
    "#testing set\n",
    "X_new_test = X_test - mean_vals\n",
    "X_new_test = X_new_test / (max_vals - min_vals)\n",
    "X_new_test = np.around(X_new_test,decimals = 2)\n",
    "print X_new_test.max(axis = 0)\n",
    "print X_new_test.min(axis = 0)\n",
    "\n",
    "print X_new.max(axis = 0)\n",
    "print X_new.min(axis = 0)"
   ]
  },
  {
   "cell_type": "code",
   "execution_count": 8,
   "metadata": {
    "collapsed": true
   },
   "outputs": [],
   "source": [
    "np.savetxt(\"train.csv\", X_new, delimiter=\",\")\n",
    "np.savetxt(\"test.csv\", X_new_test, delimiter=\",\")"
   ]
  },
  {
   "cell_type": "code",
   "execution_count": 9,
   "metadata": {
    "collapsed": true
   },
   "outputs": [],
   "source": [
    "X_train, X_validation, y_train, y_validation = train_test_split(X, y, test_size=0.1, random_state = 10)\n",
    "    \n",
    "del X, y; \n",
    "del members, songs;\n",
    "del train, test;\n",
    "gc.collect();"
   ]
  },
  {
   "cell_type": "code",
   "execution_count": null,
   "metadata": {},
   "outputs": [
    {
     "name": "stdout",
     "output_type": "stream",
     "text": [
      "Epoch 1/5\n",
      "1901184/6639676 [=======>......................] - ETA: 197s - loss: 8.1165 - acc: 0.4964"
     ]
    }
   ],
   "source": [
    "model = Sequential([\n",
    "    Dense(units=1024, kernel_initializer='uniform', input_dim=19, activation='relu'),\n",
    "    Dense(units=512, kernel_initializer='uniform', activation='relu'),\n",
    "    Dropout(0.25),\n",
    "    Dense(128, kernel_initializer='uniform', activation='relu'),\n",
    "    Dense(64, kernel_initializer='uniform', activation='relu'),\n",
    "    Dense(1, kernel_initializer='uniform', activation='sigmoid')\n",
    "])\n",
    "\n",
    "model.compile(optimizer='adam', loss='binary_crossentropy', metrics=['accuracy'])\n",
    "model.fit(X_train, y_train, batch_size=128, epochs=20)"
   ]
  },
  {
   "cell_type": "code",
   "execution_count": null,
   "metadata": {
    "collapsed": true
   },
   "outputs": [],
   "source": [
    "score = model.evaluate(X_validation, y_validation, batch_size=X_valid.shape[0])\n",
    "print '\\nLoss is ', score[0]\n",
    "print '\\nAnd the Score is ', score[1] * 100, '%'"
   ]
  },
  {
   "cell_type": "code",
   "execution_count": null,
   "metadata": {
    "collapsed": true
   },
   "outputs": [],
   "source": []
  }
 ],
 "metadata": {
  "kernelspec": {
   "display_name": "Python 2",
   "language": "python",
   "name": "python2"
  },
  "language_info": {
   "codemirror_mode": {
    "name": "ipython",
    "version": 2
   },
   "file_extension": ".py",
   "mimetype": "text/x-python",
   "name": "python",
   "nbconvert_exporter": "python",
   "pygments_lexer": "ipython2",
   "version": "2.7.13"
  }
 },
 "nbformat": 4,
 "nbformat_minor": 2
}
