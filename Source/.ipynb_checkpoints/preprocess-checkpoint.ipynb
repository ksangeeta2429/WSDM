{
 "cells": [
  {
   "cell_type": "code",
   "execution_count": null,
   "metadata": {
    "collapsed": true
   },
   "outputs": [],
   "source": [
    "import numpy as np\n",
    "import codecs\n",
    "import math\n",
    "import pandas as pd\n",
    "from googletrans import Translator\n",
    "import goslate\n",
    "import re\n",
    "from langdetect import detect\n",
    "import sys\n",
    "reload(sys)\n",
    "sys.setdefaultencoding('utf-8')"
   ]
  },
  {
   "cell_type": "code",
   "execution_count": null,
   "metadata": {
    "collapsed": true
   },
   "outputs": [],
   "source": [
    "numsongs = 20000\n",
    "songs = pd.read_csv('../Data/songs.csv', usecols = ['artist_name', 'composer', 'lyricist']).sample(numsongs).astype(str)\n",
    "df = pd.DataFrame(songs)"
   ]
  },
  {
   "cell_type": "code",
   "execution_count": null,
   "metadata": {
    "collapsed": true
   },
   "outputs": [],
   "source": [
    "def translate_row(row):\n",
    "    a = ts.translate(row['artist_name'], dest='en')\n",
    "    b = ts.translate(row['composer'], dest='en')\n",
    "    c = ts.translate(row['lyricist'], dest='en')\n",
    "    return pd.Series([a.text, b.text, c.text], headers)"
   ]
  },
  {
   "cell_type": "code",
   "execution_count": null,
   "metadata": {
    "collapsed": true
   },
   "outputs": [],
   "source": [
    "translation = []\n",
    "ts = Translator() \n",
    "headers = ['artist_name', 'composer', 'lyricist']\n",
    "\n",
    "for i in range(numsongs):\n",
    "    df.loc[i] = translate_row(df.loc[i])"
   ]
  },
  {
   "cell_type": "code",
   "execution_count": null,
   "metadata": {
    "collapsed": true
   },
   "outputs": [],
   "source": [
    "#not being used as of now\n",
    "def preprocess_str_2(string):\n",
    "    if (string.find(\"(\") == -1):\n",
    "        return string\n",
    "    else:\n",
    "        a_1 = string[string.find(\"(\")+1:string.find(\")\")]\n",
    "        a_2 = string[0:string.find(\"(\")-1]\n",
    "        try:\n",
    "            lang = detect(a_2)\n",
    "            if(lang == 'en'):\n",
    "                return a_2\n",
    "            else:\n",
    "                return a_1\n",
    "        except:\n",
    "            return string"
   ]
  },
  {
   "cell_type": "code",
   "execution_count": null,
   "metadata": {
    "collapsed": true
   },
   "outputs": [],
   "source": [
    "def take_brack_entry(string):\n",
    "    if (string.find(\"(\") == -1):\n",
    "        return string\n",
    "    else:\n",
    "        a_1 = string[string.find(\"(\")+1:string.find(\")\")]\n",
    "        return a_1"
   ]
  },
  {
   "cell_type": "code",
   "execution_count": null,
   "metadata": {},
   "outputs": [],
   "source": [
    "def split_str(string):\n",
    "    multiple = re.split('/+|\\|', string)\n",
    "    return multiple"
   ]
  },
  {
   "cell_type": "code",
   "execution_count": null,
   "metadata": {},
   "outputs": [],
   "source": [
    "#print preprocess_str('fddf | gggg / hhh')"
   ]
  },
  {
   "cell_type": "code",
   "execution_count": null,
   "metadata": {},
   "outputs": [],
   "source": [
    "headers = ['artist_name', 'composer', 'lyricist']\n",
    "for row_index, row in df.iterrows():\n",
    "    artist = split_str(row['artist_name'])\n",
    "    if len(artist) != 0:\n",
    "        for i in range(len(artist)):\n",
    "            df.append(pd.Series([artist[i], row['composer'], row['lyricist']], headers))\n",
    "        df.drop([row_index])"
   ]
  },
  {
   "cell_type": "code",
   "execution_count": null,
   "metadata": {
    "collapsed": true
   },
   "outputs": [],
   "source": [
    "for row_index, row in df.iterrows():\n",
    "    artist = take_brack_entry(row['artist_name'])\n",
    "    composer = take_brack_entry(row['composer'])\n",
    "    lyricist = take_brack_entry(row['lyricist'])\n",
    "    try:\n",
    "        if (detect(artist) == 'en' and detect(composer) == 'en' and detect(lyricist) == 'en'):\n",
    "            row.update(pd.Series([artist, composer, lyricist], headers))\n",
    "        else:\n",
    "            df.drop([row_index])\n",
    "    except:\n",
    "        df.drop([row_index])"
   ]
  },
  {
   "cell_type": "code",
   "execution_count": null,
   "metadata": {},
   "outputs": [],
   "source": [
    "df['alen'] = df['artist_name'].apply(len)\n",
    "df['clen'] = df['composer'].apply(len)\n",
    "df['llen'] = df['lyricist'].apply(len)\n",
    "print df['alen'].max() #255\n",
    "print df['clen'].max() #254\n",
    "print df['llen'].max() #217"
   ]
  },
  {
   "cell_type": "code",
   "execution_count": null,
   "metadata": {
    "collapsed": true
   },
   "outputs": [],
   "source": [
    "df.to_csv('song_mod1.csv', encoding='utf-8')"
   ]
  },
  {
   "cell_type": "code",
   "execution_count": null,
   "metadata": {
    "collapsed": true
   },
   "outputs": [],
   "source": [
    "print df.head"
   ]
  },
  {
   "cell_type": "code",
   "execution_count": null,
   "metadata": {
    "collapsed": true
   },
   "outputs": [],
   "source": []
  }
 ],
 "metadata": {
  "kernelspec": {
   "display_name": "Python 2",
   "language": "python",
   "name": "python2"
  },
  "language_info": {
   "codemirror_mode": {
    "name": "ipython",
    "version": 2
   },
   "file_extension": ".py",
   "mimetype": "text/x-python",
   "name": "python",
   "nbconvert_exporter": "python",
   "pygments_lexer": "ipython2",
   "version": "2.7.13"
  }
 },
 "nbformat": 4,
 "nbformat_minor": 2
}
