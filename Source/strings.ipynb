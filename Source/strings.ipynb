{
 "cells": [
  {
   "cell_type": "code",
   "execution_count": 1,
   "metadata": {
    "collapsed": true
   },
   "outputs": [],
   "source": [
    "import numpy as np\n",
    "import pandas as pd\n",
    "import re\n",
    "import matplotlib.pyplot as plt"
   ]
  },
  {
   "cell_type": "code",
   "execution_count": 2,
   "metadata": {},
   "outputs": [],
   "source": [
    "rcolumn = 'composer'\n",
    "headers = ['song_id', rcolumn]\n",
    "new_songs = pd.read_csv('../Data/shortlisted_song.csv', usecols = headers, na_filter=True)\n",
    "new_songs = new_songs.dropna(axis = 0)\n",
    "#print new_songs"
   ]
  },
  {
   "cell_type": "code",
   "execution_count": 3,
   "metadata": {
    "collapsed": true
   },
   "outputs": [],
   "source": [
    "def split_str(string):\n",
    "    multiple = re.split('/|,|\\|', string)\n",
    "    return multiple\n",
    "\n",
    "def brack_entry(string):\n",
    "    a_1 = string[string.find(\"(\")+1:string.find(\")\")]\n",
    "    a_2 = string[0:string.find(\"(\")-1]\n",
    "    a_1 = ''.join([i for i in a_1 if not i.isdigit()])\n",
    "    a_2 = ''.join([i for i in a_2 if not i.isdigit()])\n",
    "    return a_1, a_2"
   ]
  },
  {
   "cell_type": "code",
   "execution_count": 4,
   "metadata": {
    "collapsed": true
   },
   "outputs": [],
   "source": [
    "df_new = pd.DataFrame(columns=['index', 'song_id', rcolumn])\n",
    "artists = new_songs[rcolumn]\n",
    "\n",
    "for row_index, row in new_songs.iterrows():\n",
    "    artist = split_str(row[rcolumn])\n",
    "    if len(artist) != 0:\n",
    "        for i in range(len(artist)):\n",
    "            df_new.loc[df_new.shape[0]] = [df_new.shape[0], row['song_id'], artist[i]]\n",
    "    else:\n",
    "        df_new.loc[df_new.shape[0]] = [df_new.shape[0], row['song_id'], row[rcolumn]]"
   ]
  },
  {
   "cell_type": "code",
   "execution_count": 5,
   "metadata": {},
   "outputs": [],
   "source": [
    "#print len(df_new)\n",
    "#print df_new"
   ]
  },
  {
   "cell_type": "code",
   "execution_count": 6,
   "metadata": {
    "collapsed": true
   },
   "outputs": [],
   "source": [
    "length = len(df_new)\n",
    "for row_index, row in df_new.iterrows():\n",
    "    string = row[rcolumn]\n",
    "    if string.find('(') <> -1:\n",
    "        a1, a2 = brack_entry(string)\n",
    "        df_new.loc[length] = [length, row['song_id'], a1]\n",
    "        df_new.loc[length+1] = [length+1, row['song_id'], a2]\n",
    "        length = length + 2\n",
    "        df_new = df_new.drop(row['index'])"
   ]
  },
  {
   "cell_type": "code",
   "execution_count": 7,
   "metadata": {},
   "outputs": [],
   "source": [
    "#print df_new"
   ]
  },
  {
   "cell_type": "code",
   "execution_count": 8,
   "metadata": {},
   "outputs": [],
   "source": [
    "df_new[rcolumn] = df_new[rcolumn].map(lambda x: x.lstrip(\" \"))"
   ]
  },
  {
   "cell_type": "code",
   "execution_count": 9,
   "metadata": {},
   "outputs": [],
   "source": [
    "#print df_new"
   ]
  },
  {
   "cell_type": "code",
   "execution_count": 10,
   "metadata": {
    "collapsed": true
   },
   "outputs": [],
   "source": [
    "df_new.to_csv(rcolumn+'.csv', index=False)"
   ]
  },
  {
   "cell_type": "code",
   "execution_count": null,
   "metadata": {
    "collapsed": true
   },
   "outputs": [],
   "source": []
  }
 ],
 "metadata": {
  "kernelspec": {
   "display_name": "Python 2",
   "language": "python",
   "name": "python2"
  },
  "language_info": {
   "codemirror_mode": {
    "name": "ipython",
    "version": 2
   },
   "file_extension": ".py",
   "mimetype": "text/x-python",
   "name": "python",
   "nbconvert_exporter": "python",
   "pygments_lexer": "ipython2",
   "version": "2.7.13"
  }
 },
 "nbformat": 4,
 "nbformat_minor": 2
}
